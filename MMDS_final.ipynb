{
  "nbformat": 4,
  "nbformat_minor": 0,
  "metadata": {
    "colab": {
      "provenance": [],
      "gpuType": "T4"
    },
    "kernelspec": {
      "name": "python3",
      "display_name": "Python 3"
    },
    "language_info": {
      "name": "python"
    },
    "accelerator": "GPU"
  },
  "cells": [
    {
      "cell_type": "markdown",
      "source": [
        "# **CONFIGURATION**"
      ],
      "metadata": {
        "id": "MjBJ7E2tbtwC"
      }
    },
    {
      "cell_type": "code",
      "execution_count": 1,
      "metadata": {
        "id": "bY1PG8DARHMx"
      },
      "outputs": [],
      "source": [
        "from google.colab import drive\n",
        "import os"
      ]
    },
    {
      "cell_type": "code",
      "source": [
        "drive.mount('/content/drive')"
      ],
      "metadata": {
        "id": "QNQH6AZ5bTOq",
        "colab": {
          "base_uri": "https://localhost:8080/"
        },
        "outputId": "28dcbabe-9cee-499a-fca3-68cab9fc12b3"
      },
      "execution_count": 2,
      "outputs": [
        {
          "output_type": "stream",
          "name": "stdout",
          "text": [
            "Mounted at /content/drive\n"
          ]
        }
      ]
    },
    {
      "cell_type": "code",
      "source": [
        "!apt-get install openjdk-8-jdk-headless -qq > /dev/null\n",
        "!cp drive/MyDrive/MMDS_Data/spark-3.1.1-bin-hadoop3.2.tgz .\n",
        "!tar xf spark-3.1.1-bin-hadoop3.2.tgz\n",
        "!pip install -q findspark"
      ],
      "metadata": {
        "id": "Ttn-cYMLbU56"
      },
      "execution_count": 3,
      "outputs": []
    },
    {
      "cell_type": "code",
      "source": [
        "os.environ[\"JAVA_HOME\"] = \"/usr/lib/jvm/java-8-openjdk-amd64\"\n",
        "os.environ[\"SPARK_HOME\"] = \"/content/spark-3.1.1-bin-hadoop3.2\""
      ],
      "metadata": {
        "id": "CCHe81E7bWRq"
      },
      "execution_count": 4,
      "outputs": []
    },
    {
      "cell_type": "code",
      "source": [
        "import findspark\n",
        "findspark.init()"
      ],
      "metadata": {
        "id": "nDAKUvxnbYna"
      },
      "execution_count": 5,
      "outputs": []
    },
    {
      "cell_type": "code",
      "source": [
        "import pyspark as spark\n",
        "from pyspark import SparkContext\n",
        "sc = SparkContext('local', 'Final')"
      ],
      "metadata": {
        "id": "uQYCvgH5bZ6i"
      },
      "execution_count": 6,
      "outputs": []
    },
    {
      "cell_type": "code",
      "source": [
        "from pyspark.sql import SparkSession\n",
        "\n",
        "spark = SparkSession.builder \\\n",
        "    .appName(\"Final project\") \\\n",
        "    .getOrCreate()"
      ],
      "metadata": {
        "id": "K-pVekaDbblC"
      },
      "execution_count": 7,
      "outputs": []
    },
    {
      "cell_type": "code",
      "source": [
        "from pyspark.sql import SQLContext\n",
        "\n",
        "sqlc = SQLContext(sc)"
      ],
      "metadata": {
        "id": "dytcrpiP7REm"
      },
      "execution_count": 8,
      "outputs": []
    },
    {
      "cell_type": "markdown",
      "source": [
        "## Spark library"
      ],
      "metadata": {
        "id": "idZ-bx5WsE5f"
      }
    },
    {
      "cell_type": "code",
      "source": [
        "# Request 1 library\n",
        "from pyspark.sql.types import StructType, StructField, \\\n",
        "IntegerType,DoubleType, FloatType\n",
        "from pyspark.ml.clustering import KMeans\n",
        "from pyspark.ml.linalg import Vectors as MLVectors, VectorUDT\n",
        "from pyspark.ml.feature import VectorAssembler,MinMaxScaler, \\\n",
        "IndexToString, StringIndexer, VectorIndexer\n",
        "from pyspark.sql.functions import when, col,udf,avg,explode\n",
        "\n",
        "\n",
        "# Request 2 library\n",
        "from pyspark.mllib.linalg import Vectors as LibVectors\n",
        "from pyspark.mllib.linalg.distributed import RowMatrix\n",
        "from pyspark.sql import Row\n",
        "\n",
        "\n",
        "# Request 3 library\n",
        "from pyspark.ml.evaluation import RegressionEvaluator\n",
        "from pyspark.ml.recommendation import ALS\n",
        "\n",
        "\n",
        "# Request 4 library\n",
        "import pyspark.sql.functions as F\n",
        "from pyspark.sql.window import Window\n",
        "from pyspark.ml.regression import LinearRegression\n",
        "from pyspark.ml.evaluation import RegressionEvaluator, \\\n",
        "MulticlassClassificationEvaluator\n",
        "\n",
        "\n",
        "# Request 5 library\n",
        "from pyspark.ml.classification import \\\n",
        "MultilayerPerceptronClassifier, LinearSVC, RandomForestClassifier\n",
        "from pyspark.ml import Pipeline\n"
      ],
      "metadata": {
        "id": "8z2b0CBnr_gv"
      },
      "execution_count": 9,
      "outputs": []
    },
    {
      "cell_type": "markdown",
      "source": [
        "## Normal library"
      ],
      "metadata": {
        "id": "rZTQ-9cZsNJ4"
      }
    },
    {
      "cell_type": "code",
      "source": [
        "import matplotlib.pyplot as plt\n",
        "from mpl_toolkits.mplot3d import Axes3D\n",
        "import random\n",
        "import numpy as np"
      ],
      "metadata": {
        "id": "Q6yhogLDsICX"
      },
      "execution_count": 10,
      "outputs": []
    },
    {
      "cell_type": "markdown",
      "source": [
        "## Path to data"
      ],
      "metadata": {
        "id": "-ss1PfcDnhOw"
      }
    },
    {
      "cell_type": "code",
      "source": [
        "PATH_MNIST = \"/content/mnist_mini.csv\"\n",
        "PATH_PREDICTION = \"/content/result_prediction_MNIST.csv\"\n",
        "PATH_RATING = \"/content/ratings2k.csv\"\n",
        "PATH_STOCK = \"/content/stockHVN2022.csv\""
      ],
      "metadata": {
        "id": "ALbPsHK-nlDq"
      },
      "execution_count": 11,
      "outputs": []
    },
    {
      "cell_type": "markdown",
      "source": [
        "# **YC 1**"
      ],
      "metadata": {
        "id": "dwjSfWU6r8PP"
      }
    },
    {
      "cell_type": "markdown",
      "source": [
        "## MNISTDataAnalyzer Class"
      ],
      "metadata": {
        "id": "RdpFVOPwTbA1"
      }
    },
    {
      "cell_type": "code",
      "source": [
        "class MNISTDataAnalyzer:\n",
        "    def __init__(self, file_path,spark,num_pixel=784):\n",
        "\n",
        "        self.num_pixel=num_pixel\n",
        "\n",
        "        self.spark =spark\n",
        "        schema = StructType([\n",
        "            StructField(\"label\", IntegerType(), True)] +\n",
        "            [StructField(f\"feature_{i}\", IntegerType(), True)\\\n",
        "             for i in range(num_pixel)]\n",
        "        )\n",
        "\n",
        "        # Đọc dữ liệu từ tập tin và lưu trữ trong DataFrame\n",
        "        self.df = self.spark\\\n",
        "                      .read\\\n",
        "                      .csv(file_path, header=False, schema=schema)\n",
        "        self.clustered=None\n",
        "        self.model=None\n",
        "        self.k=None\n",
        "\n",
        "    def explore_data(self):\n",
        "        # Hiển thị thông tin về DataFrame\n",
        "        print(\"Hiển thị 5 hàng đầu tiên của DataFrame:\")\n",
        "        self.df.show(5)\n",
        "\n",
        "        # Hiển thị số lượng hàng của DataFrame\n",
        "        print(f\"Số hàng của DataFrame: {self.df.count()}\")\n",
        "\n",
        "        # Vẽ ảnh của một số ký số\n",
        "        print(\"Vẽ ảnh của một số ký số:\")\n",
        "        for i in [0, 1, 2, 3, 4,5,6]:\n",
        "            image = self.df\\\n",
        "                        .filter(self.df.label == i)\\\n",
        "                        .first()\\\n",
        "                        .asDict()\n",
        "            features = [image[f\"feature_{j}\"]\\\n",
        "                        for j in range(self.num_pixel)]\n",
        "            image_arr = np.array(features).reshape(28, 28)\n",
        "            plt.figure(figsize=(4, 4))\n",
        "            plt.imshow(image_arr, cmap='gray')\n",
        "            plt.title(f\"Ký số {i}\")\n",
        "            plt.show()\n",
        "\n",
        "    def run_kmeans(self, k=10, weighted_indices=\\\n",
        "            [0, 1, 2, 3, 4, 7, 8, 11, 18, 61], weight_value=100):\n",
        "        feature_cols = [f\"feature_{i}\" for i in range(self.num_pixel)]\n",
        "\n",
        "        weighted_df= self.df\n",
        "        # Gộp 784 feature thành 1\n",
        "        assembler = VectorAssembler(inputCols=feature_cols,\n",
        "                                    outputCol=\"features\")\n",
        "        weighted_df = assembler.transform(weighted_df)\n",
        "        #chuẩn hóa bằng MinMaxScaler\n",
        "        scaler = MinMaxScaler(inputCol=\"features\",\n",
        "                              outputCol=\"scaledFeatures\")\n",
        "        weighted_df = scaler.fit(weighted_df).transform(weighted_df)\n",
        "\n",
        "        weighted_df= weighted_df.select(\"label\",\"scaledFeatures\")\n",
        "\n",
        "        query = \"SELECT label, scaledFeatures, row_number() \"\n",
        "        query += \"over (order by 1) as id \"\n",
        "        query += \"FROM weighted_df\"\n",
        "\n",
        "        # Gán ID/Index cho các hàng dữ liệu\n",
        "        weighted_df.createOrReplaceTempView(\"weighted_df\")\n",
        "        weighted_df = self.spark\\\n",
        "                          .sql(query)\n",
        "\n",
        "        # Gán trọng số cho các hàng được chỉ định\n",
        "        weighted_df = weighted_df.withColumn(\"weightCol\",\\\n",
        "         when((weighted_df[\"id\"]-1)\\\n",
        "              .isin(weighted_indices), weight_value)\n",
        "              .otherwise(1.0))\n",
        "\n",
        "\n",
        "        # Huấn luyện mô hình k-means\n",
        "        kmeans = KMeans(k=k, featuresCol=\"scaledFeatures\")\n",
        "        kmeans.setWeightCol(\"weightCol\")\n",
        "        self.model = kmeans.fit(weighted_df)\n",
        "\n",
        "        clusters = self.model.transform(weighted_df)\n",
        "        self.clustered=clusters\n",
        "        self.k=k\n",
        "\n",
        "    def visualization(self):\n",
        "\n",
        "        # add centroid column to the dataframe\n",
        "        centroids = self.model.clusterCenters()\n",
        "        centroids_df = self.spark.createDataFrame(\\\n",
        "         [list(map(float, c)) for c in centroids], \"array<double>\")\n",
        "        centroids_df.createOrReplaceTempView(\"centroids_df\")\n",
        "\n",
        "        query = \"SELECT value, row_number() \"\n",
        "        query += \"over (order by 1) as clusters \"\n",
        "        query += \"FROM centroids_df\"\n",
        "\n",
        "        # Gán số thứ tự đại diện cho các Clusters\n",
        "        centroids_df = self.spark.sql(query)\n",
        "\n",
        "        # UDF dùng để tính khoảng cách các điểm dữ liệu đến centroid\n",
        "        distance_to_centroid_udf =\\\n",
        "         udf(lambda x, y:\n",
        "             float(MLVectors.squared_distance(x, y) ** 0.5),\\\n",
        "             DoubleType())\n",
        "\n",
        "        # Tính khoảng cách đến centroid cho tất cả các điểm dữ liệu\n",
        "        distance_to_centroid = self.clustered \\\n",
        "                .join(centroids_df, self.\\\n",
        "                      clustered.prediction == col(\"clusters\")-1, \"left\")\\\n",
        "                .withColumn('distance_to_centroid',\n",
        "                            distance_to_centroid_udf(\\\n",
        "                            col('scaledFeatures'), col('value'))) \\\n",
        "                .select('prediction', 'distance_to_centroid')\n",
        "\n",
        "        # Tính trung bình khoảng cách\n",
        "        avg_distance = distance_to_centroid \\\n",
        "            .select('prediction', 'distance_to_centroid') \\\n",
        "            .groupBy('prediction') \\\n",
        "            .agg(avg('distance_to_centroid').alias('avg_distance'))\\\n",
        "            .orderBy('prediction')\n",
        "\n",
        "        # Biểu diễn kết quả lên biểu đồ cột\n",
        "        avg_distance_array = avg_distance\\\n",
        "                                        .select(\"avg_distance\")\\\n",
        "                                        .collect()\n",
        "        avg_distance_array =\\\n",
        "         [row.avg_distance for row in avg_distance_array]\n",
        "        # Vẽ biểu đồ cột\n",
        "        plt.figure(figsize=(10, 6))\n",
        "        plt.bar(range(self.k), avg_distance_array)\n",
        "        plt.xlabel(\"Cluster\")\n",
        "        plt.ylabel(\"Trung bình khoảng cách\")\n",
        "        plt.\\\n",
        "        title(\"Khoảng cách trung bình từ các điểm dữ liệu đến centroid\")\n",
        "        plt.show()\n",
        "        return avg_distance\n",
        "\n",
        "    def correct_predictions(self):\n",
        "        correct = self.clustered\\\n",
        "        .where(self.clustered.label == self.clustered.prediction)\\\n",
        "        .count()\n",
        "        return correct\n"
      ],
      "metadata": {
        "id": "5bxKURkxwZGN"
      },
      "execution_count": 12,
      "outputs": []
    },
    {
      "cell_type": "code",
      "source": [
        "analyzer = MNISTDataAnalyzer(PATH_MNIST,spark,784)\n",
        "analyzer.run_kmeans()"
      ],
      "metadata": {
        "id": "W5VEKYRQZ5yA"
      },
      "execution_count": 13,
      "outputs": []
    },
    {
      "cell_type": "code",
      "source": [
        "analyzer.clustered.show()\n",
        "correct_predictions = analyzer.correct_predictions()\n",
        "print(\"number of correct prediction are \",correct_predictions)\n",
        "analyzer.clustered\\\n",
        "        .select(\"id\",\"weightCol\",\"label\", \"prediction\")\\\n",
        "        .repartition(1)\\\n",
        "        .write.csv(\"result_prediction_MNIST.csv\",\\\n",
        "                   header=True, mode=\"overwrite\")"
      ],
      "metadata": {
        "id": "cQpYQ_12Z9wT",
        "colab": {
          "base_uri": "https://localhost:8080/"
        },
        "outputId": "a8685fc8-0ab1-478b-80d7-54dbb667fa26"
      },
      "execution_count": 14,
      "outputs": [
        {
          "output_type": "stream",
          "name": "stdout",
          "text": [
            "+-----+--------------------+---+---------+----------+\n",
            "|label|      scaledFeatures| id|weightCol|prediction|\n",
            "+-----+--------------------+---+---------+----------+\n",
            "|    7|(784,[0,1,2,3,4,5...|  1|    100.0|         5|\n",
            "|    2|(784,[0,1,2,3,4,5...|  2|    100.0|         1|\n",
            "|    1|(784,[0,1,2,3,4,5...|  3|    100.0|         8|\n",
            "|    0|(784,[0,1,2,3,4,5...|  4|    100.0|         0|\n",
            "|    4|(784,[0,1,2,3,4,5...|  5|    100.0|         3|\n",
            "|    1|(784,[0,1,2,3,4,5...|  6|      1.0|         8|\n",
            "|    4|(784,[0,1,2,3,4,5...|  7|      1.0|         5|\n",
            "|    9|(784,[0,1,2,3,4,5...|  8|    100.0|         3|\n",
            "|    5|(784,[0,1,2,3,4,5...|  9|    100.0|         2|\n",
            "|    9|(784,[0,1,2,3,4,5...| 10|      1.0|         5|\n",
            "|    0|(784,[0,1,2,3,4,5...| 11|      1.0|         0|\n",
            "|    6|(784,[0,1,2,3,4,5...| 12|    100.0|         2|\n",
            "|    9|(784,[0,1,2,3,4,5...| 13|      1.0|         5|\n",
            "|    0|(784,[0,1,2,3,4,5...| 14|      1.0|         0|\n",
            "|    1|(784,[0,1,2,3,4,5...| 15|      1.0|         9|\n",
            "|    5|(784,[0,1,2,3,4,5...| 16|      1.0|         4|\n",
            "|    9|(784,[0,1,2,3,4,5...| 17|      1.0|         3|\n",
            "|    7|(784,[0,1,2,3,4,5...| 18|      1.0|         5|\n",
            "|    3|(784,[0,1,2,3,4,5...| 19|    100.0|         1|\n",
            "|    4|(784,[0,1,2,3,4,5...| 20|      1.0|         3|\n",
            "+-----+--------------------+---+---------+----------+\n",
            "only showing top 20 rows\n",
            "\n",
            "number of correct prediction are  1706\n"
          ]
        }
      ]
    },
    {
      "cell_type": "code",
      "source": [
        "avg_predict=analyzer.visualization()\n",
        "avg_predict.show()"
      ],
      "metadata": {
        "id": "JswqcI5zrWip",
        "colab": {
          "base_uri": "https://localhost:8080/",
          "height": 826
        },
        "outputId": "b7ea3401-8dad-493a-e2b2-f47dc9252c02"
      },
      "execution_count": 15,
      "outputs": [
        {
          "output_type": "display_data",
          "data": {
            "text/plain": [
              "<Figure size 1000x600 with 1 Axes>"
            ],
            "image/png": "[encoded data removed]"
          },
          "metadata": {}
        },
        {
          "output_type": "stream",
          "name": "stdout",
          "text": [
            "+----------+------------------+\n",
            "|prediction|      avg_distance|\n",
            "+----------+------------------+\n",
            "|         0| 6.907217851505635|\n",
            "|         1|  7.17482708159577|\n",
            "|         2| 7.268605945537409|\n",
            "|         3| 6.263872700343862|\n",
            "|         4|6.6178685871974805|\n",
            "|         5| 5.931458046250229|\n",
            "|         6| 6.644184549555971|\n",
            "|         7| 6.383846271092985|\n",
            "|         8| 5.161527818246323|\n",
            "|         9| 4.300263656588253|\n",
            "+----------+------------------+\n",
            "\n"
          ]
        }
      ]
    },
    {
      "cell_type": "markdown",
      "source": [
        "# **YC 2**"
      ],
      "metadata": {
        "id": "z9Gitt0xoBq1"
      }
    },
    {
      "cell_type": "markdown",
      "source": [
        "## SVD class"
      ],
      "metadata": {
        "id": "DMfdWPuoIlft"
      }
    },
    {
      "cell_type": "code",
      "source": [
        "class SVD():\n",
        "\n",
        "  def __init__(self, svd=None):\n",
        "    self.df = None\n",
        "    self.label_df = None\n",
        "    self.U_df = None\n",
        "    self.data = None\n",
        "    self.plot_data = None\n",
        "    self.svd = svd\n",
        "\n",
        "  def read_data(self, path):\n",
        "    '''\n",
        "    Read mnist_mini.csv file\n",
        "    path: path to the file\n",
        "    '''\n",
        "    self.df = spark.read.csv(path, header=False, inferSchema=True)\n",
        "\n",
        "  def read_prediction(self, path):\n",
        "    '''\n",
        "    Read prediction result from request 1\n",
        "    path: path to result file (csv file)\n",
        "    '''\n",
        "    self.label_df = spark.read.csv(path, header=True, inferSchema=True)\n",
        "\n",
        "  def calculate_svd(self):\n",
        "    '''\n",
        "    r always equals to 3 (To plot in 3D scatter plot)\n",
        "    '''\n",
        "\n",
        "    if self.svd != None:\n",
        "      print(\"Already provided svd. Skipping this method...\")\n",
        "      return\n",
        "\n",
        "    if self.df == None:\n",
        "      print(\"No data to continue\")\n",
        "      return\n",
        "\n",
        "    number_of_columns = len(self.df.columns)\n",
        "\n",
        "    df = self.df\n",
        "\n",
        "    rdd = df.rdd.map(lambda row: \\\n",
        "    LibVectors.dense([row[f\"_c{i}\"] for i in range(number_of_columns)]))\n",
        "\n",
        "    mat = RowMatrix(rdd)\n",
        "\n",
        "    svd = mat.computeSVD(3, computeU=True)\n",
        "\n",
        "    self.svd = svd\n",
        "\n",
        "    if(self.svd != None):\n",
        "      print(\"Successfully calculate SVD\")\n",
        "    else :\n",
        "      print(\"Error when calculating SVD\")\n",
        "\n",
        "  def get_U(self):\n",
        "    '''Left singular vector (m x r)'''\n",
        "    if self.svd == None:\n",
        "      print(\"No data to get U.Please check again\")\n",
        "      return\n",
        "\n",
        "    U = self.svd.U\n",
        "    self.U_df = U.rows.map(lambda row: Row(*(float(x)\\\n",
        "     for x in row.toArray()))).toDF([\"x\", \"y\", \"z\"])\n",
        "\n",
        "  def get_data(self):\n",
        "    '''\n",
        "    Collect data after svd.\n",
        "    Data is small because it just have 3 dimension for each row\n",
        "    '''\n",
        "\n",
        "    if self.label_df == None:\n",
        "      print(\"Please provide label of data first\")\n",
        "      return\n",
        "\n",
        "    if self.U_df == None:\n",
        "      print(\"Please get U matrix first\")\n",
        "      return\n",
        "\n",
        "    label_df = self.label_df\n",
        "\n",
        "    collect_U = self.U_df.collect()\n",
        "    collect_prediction = label_df.\\\n",
        "    select(label_df['prediction']).collect()\n",
        "\n",
        "    result_U = [list(row) for row in collect_U]\n",
        "    result_prediction = [list(row) for row in collect_prediction]\n",
        "\n",
        "    result_merge = []\n",
        "\n",
        "    for i in range(len(result_U)):\n",
        "      row = result_U[i]\n",
        "      row.append(result_prediction[i][0])\n",
        "\n",
        "      result_merge.append(row)\n",
        "\n",
        "    self.data = result_merge\n",
        "\n",
        "  def get_data_to_plot(self, n):\n",
        "    '''\n",
        "    Get random {n} rows of data to plot\n",
        "    n : number of points to plot into 3D scatter plot\n",
        "    '''\n",
        "    if(self.data == None):\n",
        "      print(\"Does not have data to plot\")\n",
        "      return\n",
        "\n",
        "    if(n > len(self.data)):\n",
        "      print(\"n must < {}\".format(self.data))\n",
        "\n",
        "    self.plot_data = random.sample(self.data, n)\n",
        "\n",
        "  def plot(self):\n",
        "    '''\n",
        "    Plot data in 3D scatter plot\n",
        "    '''\n",
        "\n",
        "    if(self.plot_data == None):\n",
        "      print(\"Does not have data to plot\")\n",
        "      return\n",
        "\n",
        "    x_coords = [item[0] for item in self.plot_data]\n",
        "    y_coords = [item[1] for item in self.plot_data]\n",
        "    z_coords = [item[2] for item in self.plot_data]\n",
        "    labels = [item[3] for item in self.plot_data]\n",
        "\n",
        "    colors = ['red', 'blue', 'green', 'orange',\\\n",
        "     'purple', 'brown', 'pink', 'gray', 'cyan', 'magenta']\n",
        "\n",
        "    fig = plt.figure()\n",
        "    ax = fig.add_subplot(111, projection='3d')\n",
        "\n",
        "    unique_labels = set()\n",
        "\n",
        "    for i, label in enumerate(labels):\n",
        "      if label not in unique_labels:\n",
        "        ax.scatter(x_coords[i], y_coords[i], \\\n",
        "        z_coords[i], color=colors[label], label=str(label))\n",
        "        unique_labels.add(label)\n",
        "      else:\n",
        "        ax.scatter(x_coords[i], y_coords[i],\\\n",
        "          z_coords[i], color=colors[label])\n",
        "\n",
        "\n",
        "    ax.legend(title=\"Nhãn\")\n",
        "    ax.set_xlabel('X')\n",
        "    ax.set_ylabel('Y')\n",
        "    ax.set_zlabel('Z')\n",
        "    ax.set_title('Biều đồ 3D thể hiện phân bố các điểm')\n",
        "\n",
        "    plt.show()\n",
        "\n"
      ],
      "metadata": {
        "id": "IDtkLAsRZFhh"
      },
      "execution_count": 16,
      "outputs": []
    },
    {
      "cell_type": "markdown",
      "source": [
        "## Evaluate"
      ],
      "metadata": {
        "id": "y9z8GtxhIpPI"
      }
    },
    {
      "cell_type": "code",
      "source": [
        "obj = SVD()\n",
        "obj.read_data(PATH_MNIST)\n",
        "obj.read_prediction(PATH_PREDICTION)"
      ],
      "metadata": {
        "id": "LZ53Qe7Upm5T"
      },
      "execution_count": 17,
      "outputs": []
    },
    {
      "cell_type": "code",
      "source": [
        "obj.calculate_svd()\n",
        "obj.get_U()"
      ],
      "metadata": {
        "id": "1OxVbe6GqFHT",
        "colab": {
          "base_uri": "https://localhost:8080/"
        },
        "outputId": "a61ad7da-29ee-447f-b964-ad2e28edfd06"
      },
      "execution_count": 18,
      "outputs": [
        {
          "output_type": "stream",
          "name": "stdout",
          "text": [
            "Successfully calculate SVD\n"
          ]
        }
      ]
    },
    {
      "cell_type": "code",
      "source": [
        "obj.get_data()"
      ],
      "metadata": {
        "id": "tmilsdjYqHrj"
      },
      "execution_count": 19,
      "outputs": []
    },
    {
      "cell_type": "code",
      "source": [
        "obj.get_data_to_plot(100)\n",
        "obj.plot()"
      ],
      "metadata": {
        "id": "5W_np8VRqM9C",
        "colab": {
          "base_uri": "https://localhost:8080/",
          "height": 437
        },
        "outputId": "4dc3e92a-a059-4818-c717-c5b043ee6fea"
      },
      "execution_count": 20,
      "outputs": [
        {
          "output_type": "display_data",
          "data": {
            "text/plain": [
              "<Figure size 640x480 with 1 Axes>"
            ],
            "image/png": "[encoded data removed]"
          },
          "metadata": {}
        }
      ]
    },
    {
      "cell_type": "markdown",
      "source": [
        "# **YC 3**"
      ],
      "metadata": {
        "id": "LUsebkcMs2lZ"
      }
    },
    {
      "cell_type": "markdown",
      "source": [
        "## CollaborativeFilteringModel class"
      ],
      "metadata": {
        "id": "6mj5fx1iTsd1"
      }
    },
    {
      "cell_type": "code",
      "source": [
        "class CollaborativeFilteringModel:\n",
        "    def __init__(self, ratings_file,sqlc):\n",
        "        self.spark = sqlc\n",
        "        self.ratings_file = ratings_file\n",
        "        self.model = None\n",
        "        self.training_data = None\n",
        "        self.test_data = None\n",
        "\n",
        "    def load_and_split_data(self, test_ratio=0.3):\n",
        "        data = self.spark.read.csv(self.ratings_file, \\\n",
        "                                   header=True, inferSchema=True)\n",
        "        (self.training_data, self.test_data) = data\\\n",
        "        .randomSplit([1 - test_ratio, test_ratio])\n",
        "\n",
        "    def train_model(self, rank, max_iter=10, reg_param=0.1):\n",
        "        als = ALS(maxIter=max_iter,\n",
        "                  regParam=reg_param,\n",
        "                  rank=rank,\n",
        "                  userCol=\"user\",\n",
        "                  itemCol=\"item\",\n",
        "                  ratingCol=\"rating\",\n",
        "                  coldStartStrategy=\"drop\")\n",
        "        self.model = als.fit(self.training_data)\n",
        "\n",
        "    def evaluate_model(self):\n",
        "        # Đánh giá trên tập train\n",
        "        train_predictions = self.model.transform(self.training_data)\n",
        "        train_evaluator = RegressionEvaluator(metricName=\"mse\",\n",
        "                                              labelCol=\"rating\",\n",
        "                                              predictionCol=\"prediction\")\n",
        "        train_mse = train_evaluator.evaluate(train_predictions)\n",
        "\n",
        "        # Đánh giá trên tập test\n",
        "        test_predictions = self.model.transform(self.test_data)\n",
        "        test_evaluator = RegressionEvaluator(metricName=\"mse\",\n",
        "                                             labelCol=\"rating\",\n",
        "                                             predictionCol=\"prediction\")\n",
        "        test_mse = test_evaluator.evaluate(test_predictions)\n",
        "\n",
        "        return train_mse, test_mse\n",
        "\n",
        "    def plot_mse(self, train_mse_values, test_mse_values):\n",
        "        ranks = list(range(10, 21))\n",
        "        n = len(ranks)\n",
        "\n",
        "        # Tạo vị trí cho các nhóm cột\n",
        "        index = np.arange(n)\n",
        "        bar_width = 0.35  # Độ rộng của mỗi cột\n",
        "\n",
        "        plt.figure(figsize=(12, 6))\n",
        "\n",
        "        # Vẽ cột cho Train MSE\n",
        "        plt.bar(index,\n",
        "                train_mse_values,\n",
        "                bar_width,\n",
        "                label='Train MSE',\n",
        "                color='b')\n",
        "\n",
        "        # Vẽ cột cho Test MSE\n",
        "        plt.bar(index + bar_width,\n",
        "                test_mse_values,\n",
        "                bar_width,\n",
        "                label='Test MSE',\n",
        "                color='r')\n",
        "\n",
        "        plt.xlabel('Rank')\n",
        "        plt.ylabel('Mean Squared Error (MSE)')\n",
        "        plt.title('MSE vs. Rank for Train and Test Data')\n",
        "\n",
        "        # Đặt các nhãn trục x\n",
        "        plt.xticks(index + bar_width / 2, ranks)\n",
        "\n",
        "        plt.legend()\n",
        "        plt.grid(True)\n",
        "        plt.show()\n",
        "    def recommend_for_user(self, user_id, num_recommendations=5):\n",
        "        # Tạo DataFrame chứa một người dùng\n",
        "        user_subset = self.spark.createDataFrame([(user_id,)], [\"user\"])\n",
        "\n",
        "        # Lấy khuyến nghị cho người dùng\n",
        "        recommendations = self.model\\\n",
        "        .recommendForUserSubset(user_subset, num_recommendations)\n",
        "\n",
        "        # Dùng explode để bung các khuyến nghị thành các hàng riêng biệt\n",
        "        recommendations = recommendations\\\n",
        "        .select(\"user\", explode(\"recommendations\")\\\n",
        "                .alias(\"recommendation\"))\n",
        "\n",
        "        # Tách cột recommendation thành movieId và rating\n",
        "        recommendations = recommendations\\\n",
        "        .select(\"user\", \"recommendation.item\", \"recommendation.rating\")\n",
        "\n",
        "        # Hiển thị khuyến nghị\n",
        "        recommendations.show(truncate=False)\n",
        "\n",
        "    def run(self):\n",
        "        self.load_and_split_data()\n",
        "        train_mse_values = []\n",
        "        test_mse_values = []\n",
        "\n",
        "        for rank in range(10, 21):\n",
        "            self.train_model(rank)\n",
        "            train_mse, test_mse = self.evaluate_model()\n",
        "            train_mse_values.append(train_mse)\n",
        "            test_mse_values.append(test_mse)\n",
        "            print('Rank: {}, Train MSE: {}, Test MSE: {}'\\\n",
        "                  .format(rank, train_mse, test_mse))\n",
        "\n",
        "        self.plot_mse(train_mse_values, test_mse_values)\n",
        "        # Run inference for a specific user\n",
        "        self.recommend_for_user(user_id=1)\n",
        "        self.recommend_for_user(user_id=5)\n",
        "\n"
      ],
      "metadata": {
        "id": "aB9o2bNTbkxT"
      },
      "execution_count": 21,
      "outputs": []
    },
    {
      "cell_type": "markdown",
      "source": [
        "## Evaluate"
      ],
      "metadata": {
        "id": "LN2yGVHZTvPE"
      }
    },
    {
      "cell_type": "code",
      "source": [
        "model = CollaborativeFilteringModel(PATH_RATING,sqlc)\n",
        "model.run()"
      ],
      "metadata": {
        "colab": {
          "base_uri": "https://localhost:8080/",
          "height": 1000
        },
        "id": "JvCCwmPy922V",
        "outputId": "13506548-0ffa-4dd6-8191-79887435fa54"
      },
      "execution_count": 23,
      "outputs": [
        {
          "output_type": "stream",
          "name": "stdout",
          "text": [
            "Rank: 10, Train MSE: 0.06708341164139786, Test MSE: 1.102685237296154\n",
            "Rank: 11, Train MSE: 0.06444321235050869, Test MSE: 1.0559586790581634\n",
            "Rank: 12, Train MSE: 0.06171998415553504, Test MSE: 1.0815406188628092\n",
            "Rank: 13, Train MSE: 0.06169335177447998, Test MSE: 1.1223171816751614\n",
            "Rank: 14, Train MSE: 0.06012348159494676, Test MSE: 1.0605907158387717\n",
            "Rank: 15, Train MSE: 0.0583612598271732, Test MSE: 1.0941482974015135\n",
            "Rank: 16, Train MSE: 0.05915158472605479, Test MSE: 1.083363863880489\n",
            "Rank: 17, Train MSE: 0.05836597502151509, Test MSE: 1.091590804145277\n",
            "Rank: 18, Train MSE: 0.057441982862285246, Test MSE: 1.0844843808938136\n",
            "Rank: 19, Train MSE: 0.05847027367234166, Test MSE: 1.0679764044534739\n",
            "Rank: 20, Train MSE: 0.05780062772701523, Test MSE: 1.0816960655039942\n"
          ]
        },
        {
          "output_type": "display_data",
          "data": {
            "text/plain": [
              "<Figure size 1200x600 with 1 Axes>"
            ],
            "image/png": "[encoded data removed]"
          },
          "metadata": {}
        },
        {
          "output_type": "stream",
          "name": "stdout",
          "text": [
            "+----+----+---------+\n",
            "|user|item|rating   |\n",
            "+----+----+---------+\n",
            "|1   |163 |4.9111366|\n",
            "|1   |352 |4.885433 |\n",
            "|1   |168 |4.8064146|\n",
            "|1   |413 |4.672568 |\n",
            "|1   |301 |4.5208135|\n",
            "+----+----+---------+\n",
            "\n",
            "+----+----+---------+\n",
            "|user|item|rating   |\n",
            "+----+----+---------+\n",
            "|5   |187 |4.9392447|\n",
            "|5   |28  |4.797539 |\n",
            "|5   |340 |4.7767954|\n",
            "|5   |437 |4.738881 |\n",
            "|5   |80  |4.7317543|\n",
            "+----+----+---------+\n",
            "\n"
          ]
        }
      ]
    },
    {
      "cell_type": "markdown",
      "source": [
        "## **YC 4**"
      ],
      "metadata": {
        "id": "UOJm5fcKCKGf"
      }
    },
    {
      "cell_type": "markdown",
      "source": [
        "## StockPriceAmplitudePrediction class"
      ],
      "metadata": {
        "id": "0P0uzK-tTx8M"
      }
    },
    {
      "cell_type": "code",
      "execution_count": 24,
      "metadata": {
        "id": "MUtAtPPZh7l1"
      },
      "outputs": [],
      "source": [
        "class StockPriceAmplitudePrediction:\n",
        "    def __init__(self, file_path: str,\n",
        "                 spark: SparkSession | None = None,\n",
        "                  model=LinearRegression,\n",
        "                 featuresCol=\"ampl_Kd_before\",\n",
        "                  labelCol=\"ampl_next\",\n",
        "                 is_percentage: bool = True,\n",
        "                  K: int = 5,\n",
        "                 date_col: str = \"Ngay\",\n",
        "                 price_col: str = \"HVN\"):\n",
        "        self.spark = spark or SparkSession\\\n",
        "        .builder.appName(\"StockPriceAmplitudePrediction\").getOrCreate()\n",
        "        self.model = model\n",
        "        self.file_path = file_path\n",
        "        self.df = None\n",
        "        self.training_data = None\n",
        "        self.testing_data = None\n",
        "        self.featuresCol = featuresCol\n",
        "        self.labelCol = labelCol\n",
        "        self.date_col = date_col\n",
        "        self.price_col = price_col\n",
        "        self.test_predictions = None\n",
        "        self.is_percentage = is_percentage\n",
        "        self.K = K\n",
        "\n",
        "    def extract(self):\n",
        "        df = self.spark.read.csv(self.file_path,\n",
        "                                      header=True,\n",
        "                                      inferSchema=True)\n",
        "        df = df.withColumn(self.date_col,\n",
        "                           F.to_date(df[self.date_col],\n",
        "                                     \"dd/MM/yyyy\"))\n",
        "        self.df = df\n",
        "\n",
        "    def plot_data(self, NO_ROWS_TO_SHOW:int=10000,\n",
        "                  title:str=\"Stock Graph\"):\n",
        "        # 219 rows for this dataset\n",
        "        df_np = self.df.select(self.date_col, self.price_col) \\\n",
        "            .limit(NO_ROWS_TO_SHOW).collect()\n",
        "        df_np = np.array(df_np)\n",
        "        plt.figure(figsize=(16, 4))\n",
        "        plt.plot(df_np[:, 0], df_np[:, 1])\n",
        "        plt.xlabel(\"Date\")\n",
        "        plt.ylabel(\"Price\")\n",
        "        plt.title(title)\n",
        "        plt.grid()\n",
        "        plt.show()\n",
        "\n",
        "    def transform(self):\n",
        "        # _calculate_amplitude = lambda price, prev_price: \\\n",
        "        #     float((price - prev_price) / prev_price) * \\\n",
        "        #         (100 * self.is_percentage or 1) if prev_price else 0.0\n",
        "        # calculate the fluctuation amplitude following the formula\n",
        "\n",
        "        df = self.df\n",
        "        window = Window.orderBy(self.date_col)\n",
        "        amplitude_col = F.col(self.price_col)\\\n",
        "         - F.lag(self.price_col).over(window)\n",
        "        amplitude_col = amplitude_col / F.lag(self.price_col).\\\n",
        "        over(window)\\\n",
        "         * (100 * self.is_percentage or 1)\n",
        "        df = df.withColumn(\"fluctuation\",\n",
        "                           F.when(F.lag(self.price_col)\\\n",
        "                                  .over(window).isNull(), 0.0)\\\n",
        "                           .otherwise(amplitude_col))\n",
        "\n",
        "        # generate a new DataFrame containing 2 columns\n",
        "        df = df.withColumn(\"ampl_Kd_before\",\n",
        "                          F.array([F.lag(\"fluctuation\", i, 0) \\\n",
        "                          .over(Window.orderBy(self.date_col)) \\\n",
        "                           for i in range(1, self.K+1)]))\n",
        "        dense_vec_udf = F.udf(lambda x:\\\n",
        "                              MLVectors.dense(x), VectorUDT())\n",
        "        df = df.withColumn(\"ampl_Kd_before\",\n",
        "                           dense_vec_udf(F.col(\"ampl_Kd_before\")))\n",
        "        df = df.withColumn(\"ampl_next\", F.col(\"fluctuation\"))\n",
        "\n",
        "        # divide the data into training and testing sets\n",
        "        self.training_data = df.\\\n",
        "        filter(F.month(F.col(self.date_col)) <= 6)\n",
        "        self.testing_data = df.\\\n",
        "        filter(F.month(F.col(self.date_col)) > 6)\n",
        "        self.df = df\n",
        "\n",
        "    def train(self):\n",
        "        my_model = self.model(featuresCol=self.featuresCol,\n",
        "                              labelCol=self.labelCol)\n",
        "\n",
        "        my_model = my_model.fit(self.training_data)\n",
        "\n",
        "        self.model = my_model\n",
        "\n",
        "    def evaluate(self, metricName: str = \"mse\"):\n",
        "        predictions = self.model.transform(self.testing_data)\n",
        "        predictionCol = self.model.getPredictionCol()\n",
        "        evaluator = RegressionEvaluator(labelCol=self.labelCol,\n",
        "                                        predictionCol=predictionCol,\n",
        "                                        metricName=metricName)\n",
        "\n",
        "        loss_train = self.model.evaluate(self.training_data)\\\n",
        "        .meanSquaredError\n",
        "        loss_test = evaluator.evaluate(predictions)\n",
        "\n",
        "        self.test_predictions = predictions\n",
        "\n",
        "        return loss_train, loss_test\n",
        "\n",
        "    def visualize_evaluation(self, loss_train: float, loss_test: float):\n",
        "        plt.bar([\"Training\", \"Testing\"],\n",
        "         [loss_train, loss_test], color=[\"c\", \"m\"])\n",
        "        for i, v in enumerate([loss_train, loss_test]):\n",
        "          plt.text(i,\n",
        "                   v,\n",
        "                   f\"{v:.6f} \" + (\" - sqr(%)\" \\\n",
        "                                  if self.is_percentage else \"\"),\n",
        "                   ha=\"center\",\n",
        "                   va=\"bottom\")\n",
        "\n",
        "        plt.xlabel(\"Dataset\")\n",
        "        plt.ylabel(\"MSE\" + \" - sqr(%)\" if self.is_percentage else \"\")\n",
        "        plt.title(\"MSE of Training and Testing sets\")\n",
        "\n",
        "        plt.show()\n",
        "\n",
        "    def run(self):\n",
        "        self.extract()\n",
        "        self.transform()\n",
        "        self.train()"
      ]
    },
    {
      "cell_type": "markdown",
      "metadata": {
        "id": "c301a857"
      },
      "source": [
        "## Run the pipeline"
      ]
    },
    {
      "cell_type": "code",
      "source": [
        "stock_price_prediction = \\\n",
        "StockPriceAmplitudePrediction(PATH_STOCK,\n",
        "                              is_percentage=False,\n",
        "                              spark=spark)\n",
        "stock_price_prediction.run()"
      ],
      "metadata": {
        "id": "LmHG_35ZKh1Z"
      },
      "execution_count": 25,
      "outputs": []
    },
    {
      "cell_type": "markdown",
      "metadata": {
        "id": "ba8fbea1"
      },
      "source": [
        "### Plot the stock price input data"
      ]
    },
    {
      "cell_type": "code",
      "source": [
        "stock_price_prediction.plot_data()"
      ],
      "metadata": {
        "colab": {
          "base_uri": "https://localhost:8080/",
          "height": 410
        },
        "id": "Nj6-FXocK1ey",
        "outputId": "1422b50d-870e-42d1-dcbf-aaab3d5ac3ed"
      },
      "execution_count": 26,
      "outputs": [
        {
          "output_type": "display_data",
          "data": {
            "text/plain": [
              "<Figure size 1600x400 with 1 Axes>"
            ],
            "image/png": "[encoded data removed]"
          },
          "metadata": {}
        }
      ]
    },
    {
      "cell_type": "code",
      "source": [
        "loss_train, loss_test = stock_price_prediction.evaluate()\n",
        "stock_price_prediction.visualize_evaluation(loss_train, loss_test)"
      ],
      "metadata": {
        "colab": {
          "base_uri": "https://localhost:8080/",
          "height": 472
        },
        "id": "27u1LeRxK3Q5",
        "outputId": "e0d7b219-38ea-46cf-9cbe-8f3e873d132b"
      },
      "execution_count": 27,
      "outputs": [
        {
          "output_type": "display_data",
          "data": {
            "text/plain": [
              "<Figure size 640x480 with 1 Axes>"
            ],
            "image/png": "[encoded data removed]"
          },
          "metadata": {}
        }
      ]
    },
    {
      "cell_type": "markdown",
      "metadata": {
        "id": "4ac101d8"
      },
      "source": [
        "### Show the prediction results"
      ]
    },
    {
      "cell_type": "code",
      "source": [
        "stock_price_prediction.test_predictions.show()"
      ],
      "metadata": {
        "colab": {
          "base_uri": "https://localhost:8080/"
        },
        "id": "9Ot51xERK6ZK",
        "outputId": "81acd25f-b6ed-436e-fecc-546327792901"
      },
      "execution_count": 28,
      "outputs": [
        {
          "output_type": "stream",
          "name": "stdout",
          "text": [
            "+----------+-----+--------------------+--------------------+--------------------+--------------------+\n",
            "|      Ngay|  HVN|         fluctuation|      ampl_Kd_before|           ampl_next|          prediction|\n",
            "+----------+-----+--------------------+--------------------+--------------------+--------------------+\n",
            "|2022-07-01| 15.6|0.006451612903225784|[-0.0342679127725...|0.006451612903225784|0.008579916685473676|\n",
            "|2022-07-04|15.75|0.009615384615384638|[0.00645161290322...|0.009615384615384638|0.004753977842311...|\n",
            "|2022-07-05|15.45|-0.01904761904761...|[0.00961538461538...|-0.01904761904761...|-0.00777426943257257|\n",
            "|2022-07-06| 15.6|0.009708737864077693|[-0.0190476190476...|0.009708737864077693|-0.01118983966620...|\n",
            "|2022-07-07|15.65|0.003205128205128...|[0.00970873786407...|0.003205128205128...|0.003307230591493...|\n",
            "|2022-07-08|16.35|  0.0447284345047924|[0.00320512820512...|  0.0447284345047924|-0.00332000399618021|\n",
            "|2022-07-11| 16.3|-0.00305810397553...|[0.04472843450479...|-0.00305810397553...|-6.72697183292789...|\n",
            "|2022-07-12|16.35|0.003067484662576...|[-0.0030581039755...|0.003067484662576...|-0.00956332650430...|\n",
            "|2022-07-13|16.45|0.006116207951070...|[0.00306748466257...|0.006116207951070...|-1.04471842602637...|\n",
            "|2022-07-14|16.45|                 0.0|[0.00611620795107...|                 0.0|0.003752061721746179|\n",
            "|2022-07-15| 16.4|-0.00303951367781...|[0.0,0.0061162079...|-0.00303951367781...|-0.00447455046936...|\n",
            "|2022-07-18| 16.4|                 0.0|[-0.0030395136778...|                 0.0|-0.00241730684757...|\n",
            "|2022-07-19| 16.4|                 0.0|[0.0,-0.003039513...|                 0.0|-0.00129821377956...|\n",
            "|2022-07-20| 16.6|0.012195121951219686|[0.0,0.0,-0.00303...|0.012195121951219686|-0.00283812266974...|\n",
            "|2022-07-21|16.45|-0.00903614457831...|[0.01219512195121...|-0.00903614457831...|-0.00174395599361...|\n",
            "|2022-07-22| 16.6| 0.00911854103343478|[-0.0090361445783...| 0.00911854103343478|-0.00593936620197...|\n",
            "|2022-07-25|16.35|-0.01506024096385542|[0.00911854103343...|-0.01506024096385542|3.352234010622068...|\n",
            "|2022-07-26| 16.2|-0.00917431192660...|[-0.0150602409638...|-0.00917431192660...|-0.00460436117354...|\n",
            "|2022-07-27|15.95| -0.0154320987654321|[-0.0091743119266...| -0.0154320987654321|-0.00214264673401...|\n",
            "|2022-07-28| 16.1|0.009404388714733676|[-0.0154320987654...|0.009404388714733676|-0.00188058308567...|\n",
            "+----------+-----+--------------------+--------------------+--------------------+--------------------+\n",
            "only showing top 20 rows\n",
            "\n"
          ]
        }
      ]
    },
    {
      "cell_type": "markdown",
      "source": [
        "# **YC 5**"
      ],
      "metadata": {
        "id": "UQI6ot-ULdut"
      }
    },
    {
      "cell_type": "markdown",
      "source": [
        "## Read data"
      ],
      "metadata": {
        "id": "NOP5W2i2NMO6"
      }
    },
    {
      "cell_type": "code",
      "source": [
        "data = spark.read.csv(PATH_MNIST, header=False, inferSchema=True)"
      ],
      "metadata": {
        "id": "Udc-9MKUNLsi"
      },
      "execution_count": 29,
      "outputs": []
    },
    {
      "cell_type": "markdown",
      "source": [
        "## ClassificationProblem class"
      ],
      "metadata": {
        "id": "JuxILvV3NdaL"
      }
    },
    {
      "cell_type": "code",
      "source": [
        "class ClassificationProblem:\n",
        "    def __init__(self):\n",
        "      self.models = {\n",
        "          'MLP': None,\n",
        "          'RF': None,\n",
        "          'LSVC': None\n",
        "      }\n",
        "      self.data = None;\n",
        "      self.train_data = None;\n",
        "      self.test_data = None;\n",
        "      self.train_data_LSVC = None;\n",
        "      self.test_data_LSVC = None;\n",
        "\n",
        "    def create_model(self):\n",
        "\n",
        "      self.models['MLP'] = self.create_model_MLP();\n",
        "      self.models['RF'] = self.create_model_RF();\n",
        "      self.models['LSVC'] = self.create_model_LSVC();\n",
        "\n",
        "    def create_model_MLP(self):\n",
        "\n",
        "      # Tạo lớp huấn luyện mô hình MLP\n",
        "      layers = [784, 500, 300, 100, 10]\n",
        "\n",
        "      MLP = MultilayerPerceptronClassifier(maxIter=100,\n",
        "                                           layers=layers,\n",
        "                                           blockSize=128,\n",
        "                                           seed=1234,\n",
        "                                           labelCol = \"label\")\n",
        "\n",
        "      return MLP\n",
        "\n",
        "    def create_model_RF(self):\n",
        "\n",
        "      labelIndexer = StringIndexer(inputCol=\"label\",\n",
        "                                   outputCol=\"indexedLabel\")\\\n",
        "                                   .fit(self.data)\n",
        "\n",
        "      featureIndexer =\\\n",
        "          VectorIndexer(inputCol=\"features\",\n",
        "                        outputCol=\"indexedFeatures\",\n",
        "                        maxCategories=4).fit(self.data)\n",
        "\n",
        "      rf = RandomForestClassifier(labelCol=\"indexedLabel\",\n",
        "                                  featuresCol=\"indexedFeatures\",\n",
        "                                  numTrees=10)\n",
        "\n",
        "      labelConverter = IndexToString(inputCol=\"prediction\",\n",
        "                                     outputCol=\"predictedLabel\",\n",
        "                                     labels=labelIndexer.labels)\n",
        "\n",
        "      # Chain indexers and forest in a Pipeline\n",
        "      pipeline = Pipeline(stages=[labelIndexer,\n",
        "                                  featureIndexer,\n",
        "                                  rf,\n",
        "                                  labelConverter])\n",
        "\n",
        "      return pipeline\n",
        "\n",
        "    def create_model_LSVC(self):\n",
        "\n",
        "      lsvc = LinearSVC(maxIter=100, regParam=0.1)\n",
        "      return lsvc\n",
        "\n",
        "    def data_progressing(self):\n",
        "\n",
        "      validation_col = self.data.columns[0]\n",
        "\n",
        "      feature_cols = self.data.columns[1:]\n",
        "\n",
        "      vector_assembler = VectorAssembler(inputCols=feature_cols,\n",
        "                                         outputCol=\"features\")\n",
        "\n",
        "      self.data = vector_assembler.transform(self.data)\\\n",
        "      .select(validation_col, \"features\")\n",
        "      self.data = self.data\\\n",
        "      .withColumnRenamed(validation_col, \"label\")\n",
        "\n",
        "      train_data, test_data = self.data.randomSplit([0.6, 0.4], seed=1234)\n",
        "\n",
        "      self.train_data = train_data\n",
        "      self.test_data = test_data\n",
        "\n",
        "    def data_progressing_LSVC(self):\n",
        "\n",
        "      # Áp dụng hàm when\n",
        "      # để chuyển đổi giá trị của cột \"label\"\n",
        "      # thành 0 hoặc 1 dựa trên ngưỡng 4.5\n",
        "      data_transformed_train = self.train_data.\\\n",
        "      withColumn(\"binary_label\",\n",
        "                 when(self.data[\"label\"] >= 4.5, 1)\\\n",
        "                 .otherwise(0))\n",
        "      data_transformed_test = self.test_data\\\n",
        "      .withColumn(\"binary_label\",\n",
        "                  when(self.data[\"label\"] >= 4.5, 1)\\\n",
        "                  .otherwise(0))\n",
        "\n",
        "      train_data_LSVC = data_transformed_train\\\n",
        "      .select(\"binary_label\", \"features\")\\\n",
        "      .withColumnRenamed(\"binary_label\", \"label\")\n",
        "      test_data_LSVC = data_transformed_test\\\n",
        "      .select(\"binary_label\", \"features\")\\\n",
        "      .withColumnRenamed(\"binary_label\", \"label\")\n",
        "\n",
        "      self.train_data_LSVC = train_data_LSVC\n",
        "      self.test_data_LSVC = test_data_LSVC\n",
        "\n",
        "    def train(self):\n",
        "\n",
        "      self.models['MLP'] = self.models['MLP'].fit(self.train_data)\n",
        "      self.models['RF'] = self.models['RF'].fit(self.train_data)\n",
        "      self.models['LSVC'] = self.models['LSVC']\\\n",
        "      .fit(self.train_data_LSVC)\n",
        "\n",
        "    def cross_entropy(self, models_name):\n",
        "\n",
        "      if models_name != \"MLP\" and models_name != \"RF\" :\n",
        "        return None\n",
        "\n",
        "      predictions_test = self.models[models_name]\\\n",
        "      .transform(self.train_data)\n",
        "      epsilon = 1e-15\n",
        "      N = predictions_test.count()\n",
        "      C = 10\n",
        "      Yij = [0] * 10\n",
        "\n",
        "      label_counts = predictions_test.groupBy(\"label\")\\\n",
        "      .count().orderBy(\"label\")\n",
        "      counts_array = label_counts.select(\"count\").collect()\n",
        "      counts_array = [row[\"count\"] for row in counts_array]\n",
        "\n",
        "\n",
        "      for yij in range(10):\n",
        "        Yij[yij] = counts_array[yij]/N\n",
        "\n",
        "\n",
        "      # Lấy cột \"probability\"\n",
        "      probabilities = predictions_test.select(\"probability\").collect()\n",
        "      probabilities = [row[\"probability\"] for row in probabilities]\n",
        "\n",
        "\n",
        "      cross_entropy = 0\n",
        "\n",
        "      # Tính cross entropy\n",
        "      for i in range(N):  # Lặp qua từng mẫu\n",
        "        for j in range(C):  # Lặp qua từng lớp\n",
        "          cross_entropy -= Yij[j] * np.log(probabilities[i][j] + epsilon)\n",
        "\n",
        "      # Chuẩn hóa theo số lượng mẫu\n",
        "      cross_entropy /= N\n",
        "\n",
        "      return cross_entropy\n",
        "\n",
        "    def evaluate(self, model_name):\n",
        "\n",
        "      if model_name not in self.models:\n",
        "          return \"Không có model này\"\n",
        "      else:\n",
        "          model = self.models[model_name]\n",
        "\n",
        "      if model_name == 'LSVC' :\n",
        "        train_data = self.train_data_LSVC\n",
        "        test_data = self.test_data_LSVC\n",
        "      else :\n",
        "        train_data = self.train_data\n",
        "        test_data = self.test_data\n",
        "\n",
        "      # Tạo dự đoán\n",
        "      predictions_test = model.transform(train_data)\n",
        "      predictions_train = model.transform(test_data)\n",
        "\n",
        "      if model_name == 'RF':\n",
        "        evaluator = MulticlassClassificationEvaluator(\n",
        "            labelCol=\"indexedLabel\",\n",
        "            predictionCol=\"prediction\",\n",
        "            metricName=\"accuracy\")\n",
        "      else:\n",
        "        evaluator = MulticlassClassificationEvaluator(\n",
        "            labelCol=\"label\",\n",
        "            predictionCol=\"prediction\",\n",
        "            metricName=\"accuracy\")\n",
        "\n",
        "      test_data_accuracy = evaluator.evaluate(predictions_test)\n",
        "      train_data_accuracy = evaluator.evaluate(predictions_train)\n",
        "\n",
        "      return test_data_accuracy, train_data_accuracy\n",
        "\n",
        "    def run(self, data):\n",
        "      self.data = data;\n",
        "      self.data_progressing();\n",
        "      self.data_progressing_LSVC();\n",
        "      self.create_model();\n",
        "      self.train();\n"
      ],
      "metadata": {
        "id": "nE-UgjDRNXMS"
      },
      "execution_count": 30,
      "outputs": []
    },
    {
      "cell_type": "markdown",
      "source": [
        "## Init and train models"
      ],
      "metadata": {
        "id": "oNlL2Y_yT-qR"
      }
    },
    {
      "cell_type": "code",
      "execution_count": 31,
      "metadata": {
        "id": "Fznz6xHU0IUn"
      },
      "outputs": [],
      "source": [
        "problem = ClassificationProblem()\n",
        "problem.run(data)"
      ]
    },
    {
      "cell_type": "markdown",
      "source": [
        "## Evaluate models"
      ],
      "metadata": {
        "id": "6mppL-YiUCnM"
      }
    },
    {
      "cell_type": "code",
      "source": [
        "test_accuracy_MLP, train_accuracy_MLP = problem.evaluate('MLP')\n",
        "test_accuracy_RF, train_accuracy_RF = problem.evaluate('RF')\n",
        "test_accuracy_LSVC, train_accuracy_LSVC = problem.evaluate('LSVC')\n",
        "\n",
        "print(\"Cross entropy MLP: \", problem.cross_entropy('MLP'))\n",
        "print(\"Cross entropy RF: \", problem.cross_entropy('RF'))"
      ],
      "metadata": {
        "colab": {
          "base_uri": "https://localhost:8080/"
        },
        "id": "Cre4tmwIO-Os",
        "outputId": "908a8a40-7dd7-482a-dde6-8597c76f6709"
      },
      "execution_count": 32,
      "outputs": [
        {
          "output_type": "stream",
          "name": "stdout",
          "text": [
            "Cross entropy MLP:  11.574941172167913\n",
            "Cross entropy RF:  3.1499912205071867\n"
          ]
        }
      ]
    },
    {
      "cell_type": "markdown",
      "source": [
        "## Plot model accuracy"
      ],
      "metadata": {
        "id": "6saqOKaFUH4k"
      }
    },
    {
      "cell_type": "code",
      "source": [
        "models = ['MLP', 'Random Forest', 'Linear SVC']\n",
        "\n",
        "test_accuracies = [\n",
        "    test_accuracy_MLP,\n",
        "    test_accuracy_RF,\n",
        "    test_accuracy_LSVC]\n",
        "train_accuracies = [\n",
        "    train_accuracy_MLP,\n",
        "    train_accuracy_RF,\n",
        "    train_accuracy_LSVC]\n",
        "\n",
        "bar_width = 0.35\n",
        "\n",
        "index = np.arange(len(models))\n",
        "\n",
        "plt.figure(figsize=(12, 6))  # Tăng kích thước hình ảnh\n",
        "\n",
        "plt.bar(\n",
        "    index,\n",
        "    test_accuracies,\n",
        "    bar_width,\n",
        "    color='skyblue',\n",
        "    label='Test Accuracy')\n",
        "\n",
        "plt.bar(\n",
        "    index + bar_width,\n",
        "    train_accuracies,\n",
        "    bar_width,\n",
        "    color='orange',\n",
        "    label='Train Accuracy')\n",
        "\n",
        "plt.xlabel('Models')\n",
        "plt.ylabel('Accuracy')\n",
        "plt.title('Accuracy Comparison between Models on Test and Train Data')\n",
        "\n",
        "plt.xticks(index + bar_width / 2, models)\n",
        "\n",
        "for i in range(len(models)):\n",
        "    plt.text(\n",
        "        index[i] - 0.02,\n",
        "        test_accuracies[i] + 0.01,\n",
        "        str(round(test_accuracies[i], 2)),\n",
        "        color='black')\n",
        "    plt.text(\n",
        "        index[i] + bar_width - 0.02,\n",
        "        train_accuracies[i] + 0.01,\n",
        "        str(round(train_accuracies[i], 2)),\n",
        "        color='black')\n",
        "\n",
        "\n",
        "plt.legend()\n",
        "\n",
        "plt.tight_layout()\n",
        "plt.show()"
      ],
      "metadata": {
        "colab": {
          "base_uri": "https://localhost:8080/",
          "height": 607
        },
        "id": "yAws4fDcPLf7",
        "outputId": "45ce7ec9-b680-49b2-d833-1db02d0e7e2f"
      },
      "execution_count": 33,
      "outputs": [
        {
          "output_type": "display_data",
          "data": {
            "text/plain": [
              "<Figure size 1200x600 with 1 Axes>"
            ],
            "image/png": "[encoded data removed]"
          },
          "metadata": {}
        }
      ]
    }
  ]
}